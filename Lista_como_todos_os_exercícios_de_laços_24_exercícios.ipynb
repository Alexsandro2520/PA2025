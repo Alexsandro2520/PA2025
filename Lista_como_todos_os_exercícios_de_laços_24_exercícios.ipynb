{
  "nbformat": 4,
  "nbformat_minor": 0,
  "metadata": {
    "colab": {
      "provenance": [],
      "authorship_tag": "ABX9TyN9rwgTVbWbDvounTS7D5zS",
      "include_colab_link": true
    },
    "kernelspec": {
      "name": "python3",
      "display_name": "Python 3"
    },
    "language_info": {
      "name": "python"
    }
  },
  "cells": [
    {
      "cell_type": "markdown",
      "metadata": {
        "id": "view-in-github",
        "colab_type": "text"
      },
      "source": [
        "<a href=\"https://colab.research.google.com/github/Alexsandro2520/PA2025/blob/main/Lista_como_todos_os_exerc%C3%ADcios_de_la%C3%A7os_24_exerc%C3%ADcios.ipynb\" target=\"_parent\"><img src=\"https://colab.research.google.com/assets/colab-badge.svg\" alt=\"Open In Colab\"/></a>"
      ]
    },
    {
      "cell_type": "markdown",
      "source": [
        "#LISTA DA CINTIA\n"
      ],
      "metadata": {
        "id": "CbK_syVErVhM"
      }
    },
    {
      "cell_type": "code",
      "source": [],
      "metadata": {
        "id": "-PHZTRXjruFU"
      },
      "execution_count": null,
      "outputs": []
    },
    {
      "cell_type": "markdown",
      "source": [
        "1) MOSTRAR TODOS OS NÚMEROS ÍMPARES DE 1 A 30\n",
        "Escreva um algoritmo que leia 20 valores inteiros e ao final exiba:\n",
        "\n",
        "a) a soma dos números positivos;\n",
        "\n",
        "b) a quantidade de valores negativos."
      ],
      "metadata": {
        "id": "8qYdzGnCfqzU"
      }
    },
    {
      "cell_type": "code",
      "source": [
        "#region com fução\n",
        "#FUNÇÃO PARA A APRESENTAÇÃO DE CÓDIGOS!(É só um print facilitado)\n",
        "def println(_text, _lines=50):\n",
        "  print('-'*_lines, _text, '-'*_lines)\n",
        "\n",
        "println('Números ímpares')\n",
        "#endregion com fução\n",
        "\n",
        "#region sem função\n",
        "print('Números ímpares')\n",
        "#region sem fução\n",
        "\n",
        "\n",
        "numeros=30\n",
        "soma=0\n",
        "qtd_impars=0\n",
        "\n",
        "for i in range(numeros):\n",
        "  if(i%2==1):\n",
        "    print(i)\n",
        "    qtd_impars+=1\n",
        "  else:\n",
        "    soma+=i\n",
        "\n",
        "print('A soma dos números pares é: ', soma)\n",
        "print('A quantidade dos negativos é: ', qtd_impars)\n"
      ],
      "metadata": {
        "colab": {
          "base_uri": "https://localhost:8080/"
        },
        "id": "mp20Qg6Yf1uH",
        "outputId": "c6599478-7c8c-4c0d-ceaf-f437d5776d77"
      },
      "execution_count": 3,
      "outputs": [
        {
          "output_type": "stream",
          "name": "stdout",
          "text": [
            "-------------------------------------------------- Números ímpares --------------------------------------------------\n",
            "1\n",
            "3\n",
            "5\n",
            "7\n",
            "9\n",
            "11\n",
            "13\n",
            "15\n",
            "17\n",
            "19\n",
            "21\n",
            "23\n",
            "25\n",
            "27\n",
            "29\n",
            "A soma dos números pares é:  210\n",
            "A quantidade dos negativos é:  15\n"
          ]
        }
      ]
    },
    {
      "cell_type": "markdown",
      "source": [
        "2) CONTADOR DE UM NÚMERO INCIAL E UM NÚMERO FINAL DIGITADOS PELO USUÁRIO"
      ],
      "metadata": {
        "id": "6O2d-q0LhYV2"
      }
    },
    {
      "cell_type": "code",
      "source": [
        "print(\"Contador de números\")\n",
        "\n",
        "n1=int(input('Digite o primeiro número: '))\n",
        "n2=int(input('Digite o segundo número: '))\n",
        "\n",
        "if(n1<n2):\n",
        "  for i in range(n1, n2):\n",
        "    print(i)\n",
        "  print(n2)\n",
        "else:\n",
        "  for i in range(n2, n1):\n",
        "    print(i)\n",
        "  print(n1)\n"
      ],
      "metadata": {
        "colab": {
          "base_uri": "https://localhost:8080/"
        },
        "id": "CAi6lf_vhqY-",
        "outputId": "5a61f539-9902-41c8-edc2-222adaee7c38"
      },
      "execution_count": null,
      "outputs": [
        {
          "output_type": "stream",
          "name": "stdout",
          "text": [
            "----------------------------------- Contador de números -----------------------------------\n",
            "Digite o primeiro número: 14\n",
            "Digite o segundo número: 7\n",
            "7\n",
            "8\n",
            "9\n",
            "10\n",
            "11\n",
            "12\n",
            "13\n",
            "14\n"
          ]
        }
      ]
    },
    {
      "cell_type": "markdown",
      "source": [
        "3) SOME TODOS OS NÚMEROS DE 1 A 10"
      ],
      "metadata": {
        "id": "XeptmuXwlkF9"
      }
    },
    {
      "cell_type": "code",
      "source": [
        "print(\"SOME TODOS OS NÚMEROS DE 1 A 10\")\n",
        "numeros=10\n",
        "soma=0\n",
        "\n",
        "for i in range(numeros):\n",
        "  soma+=i\n",
        "print(soma)\n"
      ],
      "metadata": {
        "colab": {
          "base_uri": "https://localhost:8080/"
        },
        "id": "-avsPMPql4bi",
        "outputId": "e8425fc9-b760-4434-bfc0-925b71e87caa"
      },
      "execution_count": null,
      "outputs": [
        {
          "output_type": "stream",
          "name": "stdout",
          "text": [
            "45\n"
          ]
        }
      ]
    },
    {
      "cell_type": "markdown",
      "source": [
        "4) USANDO O WHILE PERGUNTE AO USUÁRIO QUAL A MELHOR ESCOLHA DE RIBEIRÃO PIRES, ENQUANTO A PESSOA NÃO DIGITAR \"ETEC MCM\", ENQUANTO NÃO DIGITA CERTO ELE VAI INFORMANDO QUE O USUÁRIO ERROU"
      ],
      "metadata": {
        "id": "GmjRmFVpmu3R"
      }
    },
    {
      "cell_type": "code",
      "source": [
        "print('USANDO O WHILE PERGUNTE AO USUÁRIO QUAL A MELHOR ESCOLHA DE RIBEIRÃO PIRES')\n",
        "escolha=str(input('A melhor escolha: ')).lower()\n",
        "\n",
        "while escolha!=\"etec mcm\":\n",
        "  escolha=str(input('A melhor escolha: ')).lower()\n",
        "print('Ótima escolha!')"
      ],
      "metadata": {
        "colab": {
          "base_uri": "https://localhost:8080/"
        },
        "id": "11OPjJ08m58Y",
        "outputId": "c46a1d55-54fa-4a79-82a0-f29b3440cb62"
      },
      "execution_count": null,
      "outputs": [
        {
          "output_type": "stream",
          "name": "stdout",
          "text": [
            "A melhor escolha: a\n",
            "A melhor escolha: \n",
            "A melhor escolha: \n",
            "A melhor escolha: \n",
            "A melhor escolha: \n",
            "A melhor escolha: \n",
            "A melhor escolha: etec mcm\n",
            "Ótima escolha!\n"
          ]
        }
      ]
    },
    {
      "cell_type": "markdown",
      "source": [
        "5) Receba um número, verifique se é diferente de zero, caso seja diferente,continue retornando falso até que ele digite esse valor."
      ],
      "metadata": {
        "id": "0hJbtHoPpBEs"
      }
    },
    {
      "cell_type": "code",
      "source": [
        "num=1\n",
        "\n",
        "while num != 0:\n",
        "  num=int(input('Me dê um número: '))\n",
        "  if(num!=0):\n",
        "    print('False')\n",
        "print('Finalmente você digitou zero!')\n"
      ],
      "metadata": {
        "id": "6y4XId0spIhx",
        "colab": {
          "base_uri": "https://localhost:8080/"
        },
        "outputId": "dadb39ea-e3e4-4db4-8bbf-20dfeef4b7d9"
      },
      "execution_count": 8,
      "outputs": [
        {
          "output_type": "stream",
          "name": "stdout",
          "text": [
            "Me dê um número: 1\n",
            "False\n",
            "Me dê um número: 2\n",
            "False\n",
            "Me dê um número: 4\n",
            "False\n",
            "Me dê um número: 6\n",
            "False\n",
            "Me dê um número: 0\n",
            "Finalmente você digitou zero!\n"
          ]
        }
      ]
    },
    {
      "cell_type": "markdown",
      "source": [
        "6) SOMAR NÚMEROS ATÉ QUE O USUÁRIO DIGITE 0"
      ],
      "metadata": {
        "id": "_7xQqnzLtMqZ"
      }
    },
    {
      "cell_type": "code",
      "source": [
        "nums=1\n",
        "soma=0\n",
        "\n",
        "while nums!=0:\n",
        "  nums=int(input('Me diga um número: '))\n",
        "  soma+=nums\n",
        "print('Soma: ', soma)"
      ],
      "metadata": {
        "colab": {
          "base_uri": "https://localhost:8080/"
        },
        "id": "YGqSCyEbtPMr",
        "outputId": "e2d9431c-d590-4008-9a0f-e4b8a9de8f49"
      },
      "execution_count": 10,
      "outputs": [
        {
          "output_type": "stream",
          "name": "stdout",
          "text": [
            "Me diga um número: 6\n",
            "Me diga um número: 7\n",
            "Me diga um número: 3\n",
            "Me diga um número: 2\n",
            "Me diga um número: 9\n",
            "Me diga um número: 0\n",
            "Soma:  27\n"
          ]
        }
      ]
    },
    {
      "cell_type": "markdown",
      "source": [
        "7) CRIE UM MENU DE OPÇÕES, COM 3 OPÇÕES,E ELE VAI SOLICITANDO NOVAMENTE A OPÇÕES ATÉ QUE O USUÁRIO ESCOLHA A OPÇÃO SAIR"
      ],
      "metadata": {
        "id": "GHstp99-wTtA"
      }
    },
    {
      "cell_type": "code",
      "source": [
        "opcoes=['Revisar', 'Revisar', 'Sair']\n",
        "index=1\n",
        "print('Opções')\n",
        "for i in opcoes:\n",
        "  print(index,' - ',i)\n",
        "  index+=1\n",
        "opcao=''\n",
        "while opcao!='sair' and opcao!='3':\n",
        "  opcao=str(input('Faça sua escolha: ')).lower()\n",
        "print('Saindo')"
      ],
      "metadata": {
        "colab": {
          "base_uri": "https://localhost:8080/"
        },
        "id": "5-ynf8R8wWrQ",
        "outputId": "4a83d10b-4db5-4abe-e10c-d68fb0b8d52e"
      },
      "execution_count": 12,
      "outputs": [
        {
          "output_type": "stream",
          "name": "stdout",
          "text": [
            "Opções\n",
            "1  -  Revisar\n",
            "2  -  Revisar\n",
            "3  -  Sair\n",
            "Faça sua escolha: sair\n",
            "Saindo\n"
          ]
        }
      ]
    },
    {
      "cell_type": "markdown",
      "source": [
        "8) Faça um programa que mostre os n termos da Série a seguir e realize o cálculo\n",
        "Solicite ao usuário a quantidade de repetições"
      ],
      "metadata": {
        "id": "NvvkZJO8xMZa"
      }
    },
    {
      "cell_type": "code",
      "source": [
        "n=int(input(\"Digite a quantidade de termos: \"))\n",
        "\n",
        "soma=0\n",
        "d=1\n",
        "\n",
        "print(\"Série: \", end=\"\")\n",
        "for i in range(1, n+1):\n",
        "    termo = i / d\n",
        "    soma += termo\n",
        "    print(f\"{i}/{d}\", end=\"\")\n",
        "    if i < n:\n",
        "        print(\" + \", end=\"\")\n",
        "    d += 2  # próximo número ímpar\n",
        "\n",
        "print(f\"\\n\\nSoma da série até {n} termos = {soma:.4f}\")\n"
      ],
      "metadata": {
        "colab": {
          "base_uri": "https://localhost:8080/"
        },
        "id": "-3FTqIQhxOxN",
        "outputId": "084ce6fa-8a47-4ab9-ebe1-38d42120d5c6"
      },
      "execution_count": 13,
      "outputs": [
        {
          "output_type": "stream",
          "name": "stdout",
          "text": [
            "Digite a quantidade de termos: 4\n",
            "Série: 1/1 + 2/3 + 3/5 + 4/7\n",
            "\n",
            "Soma da série até 4 termos = 2.8381\n"
          ]
        }
      ]
    },
    {
      "cell_type": "markdown",
      "source": [
        "#LISTA DO MÁRCIO"
      ],
      "metadata": {
        "id": "tfy95OEKyIKb"
      }
    },
    {
      "cell_type": "markdown",
      "source": [
        "1) Soma dos números de uma lista\n",
        "Dada a lista numeros = [3, 7, 2, 8, 10], use um for para calcular a soma de todos os elementos."
      ],
      "metadata": {
        "id": "WYca6hyTyLto"
      }
    },
    {
      "cell_type": "code",
      "source": [
        "nums=[3, 7, 2, 8, 10]\n",
        "\n",
        "soma=0\n",
        "for i in nums:\n",
        "  soma+=i\n",
        "print('Soma: ', soma)"
      ],
      "metadata": {
        "id": "X3bPQ3PLyKih"
      },
      "execution_count": null,
      "outputs": []
    },
    {
      "cell_type": "markdown",
      "source": [
        "2) Contagem de vogais em uma string\n",
        "Peça uma palavra ao usuário e use um for para contar quantas vogais (a, e, i, o, u) existem.\n"
      ],
      "metadata": {
        "id": "L8GYjPqWyZyP"
      }
    },
    {
      "cell_type": "code",
      "source": [
        "texto=str(input('Me diga um texto: ')).lower()\n",
        "vogais='aeiou'\n",
        "qtdvogais={\n",
        "    'a': 0,\n",
        "    'e': 0,\n",
        "    'i': 0,\n",
        "    'o': 0,\n",
        "    'u': 0\n",
        "}\n",
        "\n",
        "for i in texto:\n",
        "  if(i in vogais):\n",
        "    qtdvogais[i]+=1\n",
        "\n",
        "print(qtdvogais)\n"
      ],
      "metadata": {
        "colab": {
          "base_uri": "https://localhost:8080/"
        },
        "id": "gWnCGMV8ycXn",
        "outputId": "aef77bea-5642-4ffb-8864-c6735035e062"
      },
      "execution_count": 14,
      "outputs": [
        {
          "output_type": "stream",
          "name": "stdout",
          "text": [
            "Me diga um texto: Me mostre seu mastro, Maestro!\n",
            "{'a': 2, 'e': 4, 'i': 0, 'o': 3, 'u': 1}\n"
          ]
        }
      ]
    },
    {
      "cell_type": "markdown",
      "source": [
        "3) Inverter lista usando while\n",
        "Dada a lista nomes = [\"Ana\", \"João\", \"Carlos\", \"Maria\"], use um while para inverter a ordem dos elementos (sem usar reverse() ou slicing)."
      ],
      "metadata": {
        "id": "Dc9oewjbzOpY"
      }
    },
    {
      "cell_type": "code",
      "source": [
        "nomes=[\"Ana\", \"João\", \"Carlos\", \"Maria\"]\n",
        "newnomes=[]\n",
        "index=len(nomes)-1\n",
        "while index>=0:\n",
        "  newnomes.append(nomes[index])\n",
        "  index-=1\n",
        "print(newnomes)"
      ],
      "metadata": {
        "colab": {
          "base_uri": "https://localhost:8080/"
        },
        "id": "l9uu0WBxzRPP",
        "outputId": "e4a39686-f18a-4339-dae9-38ceae1c8328"
      },
      "execution_count": 16,
      "outputs": [
        {
          "output_type": "stream",
          "name": "stdout",
          "text": [
            "['Maria', 'Carlos', 'João', 'Ana']\n"
          ]
        }
      ]
    },
    {
      "cell_type": "markdown",
      "source": [
        "4) Maior número em uma lista\n",
        "Escreva um programa que percorra uma lista de inteiros e encontre o maior valor."
      ],
      "metadata": {
        "id": "BM1Aq9bwzwkD"
      }
    },
    {
      "cell_type": "code",
      "source": [
        "nums=str(input('Me diga uma lista de números(Sendo separados por uma vírgula): ')).replace(' ', '').split(',')\n",
        "listnums=[]\n",
        "maxnum=0\n",
        "for i in nums:\n",
        "  listnums.append(int(i))\n",
        "\n",
        "for i in listnums:\n",
        "  if(i>maxnum):\n",
        "    maxnum=i\n",
        "\n",
        "print('O maior número da lista: ', listnums, ' é: ', maxnum)\n"
      ],
      "metadata": {
        "colab": {
          "base_uri": "https://localhost:8080/"
        },
        "id": "_Q_QazS4zyXx",
        "outputId": "bfdea3c7-8945-4d46-f31c-72b2d7d7201c"
      },
      "execution_count": 24,
      "outputs": [
        {
          "output_type": "stream",
          "name": "stdout",
          "text": [
            "Me diga uma lista de números(Sendo separados por uma vírgula): 4,1,2\n",
            "O maior número da lista:  [4, 1, 2]  é:  4\n"
          ]
        }
      ]
    },
    {
      "cell_type": "markdown",
      "source": [
        "5) Remover elementos repetidos de uma lista\n",
        "Usando um for, percorra a lista valores = [1, 2, 2, 3, 4, 4, 5] e crie uma nova lista apenas com elementos únicos."
      ],
      "metadata": {
        "id": "SoKo_nnN1hw6"
      }
    },
    {
      "cell_type": "code",
      "source": [
        "vals=[1, 2, 2, 3, 4, 4, 5]\n",
        "newvals=[]\n",
        "\n",
        "for i in vals:\n",
        "  if(i in newvals):\n",
        "    pass\n",
        "  else:\n",
        "    newvals.append(i)\n",
        "print(f'A nova lista é: {newvals}')\n"
      ],
      "metadata": {
        "colab": {
          "base_uri": "https://localhost:8080/"
        },
        "id": "rlzaPXDV1kmW",
        "outputId": "6598ae7f-3227-436a-fa26-0672bec294fa"
      },
      "execution_count": 27,
      "outputs": [
        {
          "output_type": "stream",
          "name": "stdout",
          "text": [
            "A nova lista é: [1, 2, 3, 4, 5]\n"
          ]
        }
      ]
    },
    {
      "cell_type": "markdown",
      "source": [
        "6) Verificar se palavra é palíndromo\n",
        "Peça uma palavra ao usuário e use while ou for para verificar se ela é igual de frente para trás (ex.: \"arara\")."
      ],
      "metadata": {
        "id": "JefIq20t2ZjL"
      }
    },
    {
      "cell_type": "code",
      "source": [
        "palavra=str(input('Digite uma palavra: ')).lower()\n",
        "\n",
        "if(palavra == palavra[::-1]):\n",
        "  print('É um palindromo')\n",
        "else:\n",
        "  print('Não é um palindromo')"
      ],
      "metadata": {
        "colab": {
          "base_uri": "https://localhost:8080/"
        },
        "id": "dmMQL1Yk2c9_",
        "outputId": "d03b7922-87ee-4d84-9f34-fe9fe7cb58e9"
      },
      "execution_count": 29,
      "outputs": [
        {
          "output_type": "stream",
          "name": "stdout",
          "text": [
            "Digite uma palavra: arara\n",
            "É um palindromo\n"
          ]
        }
      ]
    },
    {
      "cell_type": "markdown",
      "source": [
        "7) Contagem regressiva com while\n",
        "\n",
        "Peça ao usuário um número e faça uma contagem regressiva até 0."
      ],
      "metadata": {
        "id": "Ag-3njwh2uLS"
      }
    },
    {
      "cell_type": "code",
      "source": [
        "num=int(input('Digite um número para começar a contagem regressiva: '))\n",
        "\n",
        "while num>=0:\n",
        "  print(num)\n",
        "  num-=1"
      ],
      "metadata": {
        "colab": {
          "base_uri": "https://localhost:8080/"
        },
        "id": "6_bnV0TT2vs6",
        "outputId": "6e73527b-4207-4ce8-c5b7-ab0aa22212ff"
      },
      "execution_count": 30,
      "outputs": [
        {
          "output_type": "stream",
          "name": "stdout",
          "text": [
            "Digite um número para começar a contagem regressiva: 10\n",
            "10\n",
            "9\n",
            "8\n",
            "7\n",
            "6\n",
            "5\n",
            "4\n",
            "3\n",
            "2\n",
            "1\n",
            "0\n"
          ]
        }
      ]
    },
    {
      "cell_type": "markdown",
      "source": [
        "8) Percorrendo um dicionário de notas\n",
        "Dado o dicionário notas = {\"Ana\": 8, \"Carlos\": 7, \"Maria\": 10}, use um for para exibir cada aluno com sua nota."
      ],
      "metadata": {
        "id": "_yAN23QX29br"
      }
    },
    {
      "cell_type": "code",
      "source": [
        "notas = {\n",
        "    \"Ana\": 2,\n",
        "    \"Carlos\": 1,\n",
        "    \"Maria\": 0,\n",
        "    \"Cauê\": -1,\n",
        "    \"Davy\": -1000,\n",
        "    \"Alex\": 10\n",
        "}\n",
        "\n",
        "for nome,nota in notas.items():\n",
        "  print(f'Nome: {nome}\\nNota: {nota}\\n\\n')\n"
      ],
      "metadata": {
        "colab": {
          "base_uri": "https://localhost:8080/"
        },
        "id": "d1A3S_ZY3IlZ",
        "outputId": "81f515d3-b77d-4831-ba51-849097169ade"
      },
      "execution_count": 32,
      "outputs": [
        {
          "output_type": "stream",
          "name": "stdout",
          "text": [
            "Nome: Ana\n",
            "Nota: 2\n",
            "\n",
            "\n",
            "Nome: Carlos\n",
            "Nota: 1\n",
            "\n",
            "\n",
            "Nome: Maria\n",
            "Nota: 0\n",
            "\n",
            "\n",
            "Nome: Cauê\n",
            "Nota: -1\n",
            "\n",
            "\n",
            "Nome: Davy\n",
            "Nota: -1000\n",
            "\n",
            "\n",
            "Nome: Alex\n",
            "Nota: 10\n",
            "\n",
            "\n"
          ]
        }
      ]
    },
    {
      "cell_type": "markdown",
      "source": [
        "9)Filtrar números pares de uma lista\n",
        "\n",
        "Dada a lista numeros = [10, 21, 32, 43, 54], use um for para criar uma nova lista contendo apenas os pares."
      ],
      "metadata": {
        "id": "Bqa5CPqL39Tw"
      }
    },
    {
      "cell_type": "code",
      "source": [
        "from ast import parse\n",
        "numeros = [10, 21, 32, 43, 54]\n",
        "pares=[]\n",
        "impares=[]\n",
        "for i in numeros:\n",
        "  if(i%2==0):\n",
        "    pares.append(i)\n",
        "  else:\n",
        "    impares.append(i)\n",
        "print(f'Pares:{pares}\\nImpares:{impares}')"
      ],
      "metadata": {
        "colab": {
          "base_uri": "https://localhost:8080/"
        },
        "id": "sxjqjRN64AgK",
        "outputId": "a3b561ed-6248-4ef1-9b72-e90bde98e4e8"
      },
      "execution_count": 33,
      "outputs": [
        {
          "output_type": "stream",
          "name": "stdout",
          "text": [
            "Pares:[10, 32, 54]\n",
            "Impares:[21, 43]\n"
          ]
        }
      ]
    },
    {
      "cell_type": "markdown",
      "source": [
        "10) Contador de palavras em uma frase\n",
        "Peça ao usuário uma frase, divida em palavras (split()) e use um dicionário para contar quantas vezes cada palavra aparece.\n",
        "Com manipulação de listas, tuplas e dicionários:\n"
      ],
      "metadata": {
        "id": "AEXw9h_N4Vb4"
      }
    },
    {
      "cell_type": "code",
      "source": [
        "frase=str(input('Digite uma frase: ')).lower().split()\n",
        "\n",
        "dic={}\n",
        "\n",
        "for i in frase:\n",
        "  dic[i]=0\n",
        "for i in frase:\n",
        "  dic[i]+=1\n",
        "print(dic)"
      ],
      "metadata": {
        "colab": {
          "base_uri": "https://localhost:8080/"
        },
        "id": "jSdcpHzA4aMr",
        "outputId": "b90a3998-ca0a-4d3e-ea02-427a404bfbe6"
      },
      "execution_count": 35,
      "outputs": [
        {
          "output_type": "stream",
          "name": "stdout",
          "text": [
            "Digite uma frase: olko meo olko\n",
            "{'olko': 2, 'meo': 1}\n"
          ]
        }
      ]
    },
    {
      "cell_type": "markdown",
      "source": [
        "#OUTRA LISTA"
      ],
      "metadata": {
        "id": "V8tB835o41zf"
      }
    },
    {
      "cell_type": "markdown",
      "source": [
        "1) Tuplas - Acesso e Desempacotamento\n",
        "Crie uma tupla contendo três tipos diferentes de dados: um número, uma string e uma lista. Use um laço de repetição para acessar e imprimir cada item da tupla. Além disso, dentro do laço, acesse e imprima o segundo item da lista que está dentro da tupla."
      ],
      "metadata": {
        "id": "Ll3l3fWU47U_"
      }
    },
    {
      "cell_type": "code",
      "source": [
        "t = (10, \"Olá\", [1, 2, 3])\n",
        "\n",
        "for item in t:\n",
        "    print(item)\n",
        "\n",
        "    if isinstance(item, list):\n",
        "        print(\"Segundo da lista:\", item[1])\n"
      ],
      "metadata": {
        "id": "ibZ5PeU243oX"
      },
      "execution_count": null,
      "outputs": []
    },
    {
      "cell_type": "markdown",
      "source": [
        "2) Cadastro de Pessoas e Análise de Alturas\n",
        "Solicite ao usuário para inserir o nome e a altura de várias pessoas. Preencha um dicionário com essas informações e depois encontre e imprima o nome e a altura da pessoa mais alta e da mais baixa."
      ],
      "metadata": {
        "id": "eD9YWXCx5Noy"
      }
    },
    {
      "cell_type": "code",
      "source": [
        "pessoas = {}\n",
        "\n",
        "\n",
        "for i in range(3):\n",
        "    nome = input(\"Nome: \")\n",
        "    altura = float(input(\"Altura: \"))\n",
        "    pessoas[nome] = altura\n",
        "\n",
        "mais_alto = max(pessoas, key=pessoas.get)\n",
        "mais_baixo = min(pessoas, key=pessoas.get)\n",
        "\n",
        "print(f\"Mais alto: {mais_alto} ({pessoas[mais_alto]} m)\")\n",
        "print(f\"Mais baixo: {mais_baixo} ({pessoas[mais_baixo]} m)\")\n"
      ],
      "metadata": {
        "id": "-x4MkbrH5P88"
      },
      "execution_count": null,
      "outputs": []
    },
    {
      "cell_type": "markdown",
      "source": [
        "3) Lista, laços e Condicionais\n",
        "Descrição: Crie uma listacom cinco números inteiros. Use um laço de repetição e uma condicional para imprimir apenas os números que são múltiplos de 3."
      ],
      "metadata": {
        "id": "nqRcG0ka5k-I"
      }
    },
    {
      "cell_type": "code",
      "source": [
        "numeros = [4, 9, 12, 7, 15]\n",
        "\n",
        "for n in numeros:\n",
        "    if n % 3 == 0:\n",
        "        print(n)\n"
      ],
      "metadata": {
        "id": "-YU9WEfq5nuj"
      },
      "execution_count": null,
      "outputs": []
    },
    {
      "cell_type": "markdown",
      "source": [
        "4) Manipulação de Strings e Condicionais\n",
        "Descrição: Crie uma string com uma frase. Use uma condicional para verificar se a frase contém a palavra \"Python\". Se sim, substitua a palavra \"Python\" por \"programação\" e imprima a nova frase."
      ],
      "metadata": {
        "id": "EcM1BOuR5uFD"
      }
    },
    {
      "cell_type": "code",
      "source": [
        "frase = \"Eu gosto de aprender Python todos os dias.\"\n",
        "\n",
        "if \"Python\" in frase:\n",
        "    frase = frase.replace(\"Python\", \"programação\")\n",
        "\n",
        "print(frase)\n"
      ],
      "metadata": {
        "id": "OPV461Io5wgh"
      },
      "execution_count": null,
      "outputs": []
    },
    {
      "cell_type": "markdown",
      "source": [
        "5) Simulação de Alfândega com Cadastro Dinâmico de Itens usando dicionário\n",
        "Simule uma situação de alfândega onde o funcionário cadastra itens novos encontrados na mala de uma pessoa que veio de uma viagem internacional. Após o cadastro de todos os itens, o programa imprime uma nota com todos os itens e seus preços, calcula o valor total e, se o valor total ultrapassar 500 dólares, calcula o valor de 60% a ser pago."
      ],
      "metadata": {
        "id": "Q2AJOzol5z9H"
      }
    },
    {
      "cell_type": "code",
      "source": [
        "itens = {}\n",
        "\n",
        "while True:\n",
        "    nome = input(\"Item (ou 'fim' para encerrar): \")\n",
        "    if nome.lower() == \"fim\":\n",
        "        break\n",
        "    preco = float(input(\"Preço em dólares: \"))\n",
        "    itens[nome] = preco\n",
        "\n",
        "print(\"\\n--- Nota da Alfândega ---\")\n",
        "total = 0\n",
        "for nome, preco in itens.items():\n",
        "    print(f\"{nome}: ${preco:.2f}\")\n",
        "    total += preco\n",
        "\n",
        "print(f\"Total: ${total:.2f}\")\n",
        "\n",
        "if total > 500:\n",
        "    taxa = total * 0.6\n",
        "    print(f\"Valor a ser pago (60%): ${taxa:.2f}\")\n",
        "else:\n",
        "    print(\"Sem taxa extra.\")\n"
      ],
      "metadata": {
        "id": "oI7blroO52KM"
      },
      "execution_count": null,
      "outputs": []
    },
    {
      "cell_type": "markdown",
      "source": [
        "6) Identificação de Palavras Negativas em um Texto\n",
        "Você vai criar um programa em Python para analisar um texto e identificar palavras que expressam pensamentos negativos. Para isso, você usará uma lista de palavras negativas fornecida e verificará quais dessas palavras estão presentes no texto fornecido pelo usuário. Exemplo de palavras negtivas, acrescente mais na lista: # Lista de palavras negativas palavras_negativas = ['triste', 'deprimido', 'ansioso', 'desapontado', 'frustrado']"
      ],
      "metadata": {
        "id": "OesKqp2A57u7"
      }
    },
    {
      "cell_type": "code",
      "source": [
        "palavras_negativas = [\n",
        "    'triste', 'deprimido', 'ansioso', 'desapontado', 'frustrado',\n",
        "    'raiva', 'ódio', 'medo', 'solidão', 'cansado', 'chateado'\n",
        "]\n",
        "\n",
        "texto = input(\"Digite um texto: \").lower()\n",
        "\n",
        "encontradas = []\n",
        "for palavra in palavras_negativas:\n",
        "    if palavra in texto:\n",
        "        encontradas.append(palavra)\n",
        "\n",
        "if encontradas:\n",
        "    print(\"Palavras negativas encontradas:\", \", \".join(encontradas))\n",
        "else:\n",
        "    print(\"Nenhuma palavra negativa encontrada.\")\n"
      ],
      "metadata": {
        "id": "f8Qf-XtL6IX_"
      },
      "execution_count": null,
      "outputs": []
    }
  ]
}