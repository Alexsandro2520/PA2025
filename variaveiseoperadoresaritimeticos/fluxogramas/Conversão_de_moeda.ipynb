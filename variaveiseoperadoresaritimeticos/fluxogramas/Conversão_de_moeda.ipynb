{
  "nbformat": 4,
  "nbformat_minor": 0,
  "metadata": {
    "colab": {
      "provenance": [],
      "authorship_tag": "ABX9TyMH4gLGi6nskHSysPJx9T/V",
      "include_colab_link": true
    },
    "kernelspec": {
      "name": "python3",
      "display_name": "Python 3"
    },
    "language_info": {
      "name": "python"
    }
  },
  "cells": [
    {
      "cell_type": "markdown",
      "metadata": {
        "id": "view-in-github",
        "colab_type": "text"
      },
      "source": [
        "<a href=\"https://colab.research.google.com/github/Alexsandro2520/PA2025/blob/main/Convers%C3%A3o_de_moeda.ipynb\" target=\"_parent\"><img src=\"https://colab.research.google.com/assets/colab-badge.svg\" alt=\"Open In Colab\"/></a>"
      ]
    },
    {
      "cell_type": "code",
      "execution_count": 4,
      "metadata": {
        "colab": {
          "base_uri": "https://localhost:8080/"
        },
        "id": "cjKrlk5fBFG_",
        "outputId": "4c0d77ac-ac0c-46a7-8224-668c9ded89b7"
      },
      "outputs": [
        {
          "output_type": "stream",
          "name": "stdout",
          "text": [
            "A cotação do dolar: 5.75\n",
            "Quantos reais: 2000\n",
            "Você terá 347.83 dolars!\n"
          ]
        }
      ],
      "source": [
        "#Dados de entrada\n",
        "cotacao=float(input(\"A cotação do dolar: \"))\n",
        "valor_real=float(input(\"Quantos reais: \"))\n",
        "\n",
        "#Conta\n",
        "resultado=valor_real/cotacao\n",
        "\n",
        "#Saída\n",
        "print(f\"Você terá {round(resultado, 2)} dolars!\")"
      ]
    }
  ]
}
