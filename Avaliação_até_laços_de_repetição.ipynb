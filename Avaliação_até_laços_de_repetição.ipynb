{
 "cells": [
  {
   "cell_type": "markdown",
   "metadata": {
    "id": "oncsAo0QKXM4"
   },
   "source": [
    "**Coloque seu nome aqui: *Alexsandro Correa Miranda*"
   ]
  },
  {
   "cell_type": "markdown",
   "metadata": {
    "id": "2Wtw01VyHzBQ"
   },
   "source": [
    "1)Crie um programa em python que imprima números pares\n",
    "\n",
    "a) Pedir o usuário para digitar uma lista com mínimo 10 números\n",
    "\n",
    "b) Criar uma nova somente com numeros pares\n",
    "\n",
    "c) Imprimir números pares"
   ]
  },
  {
   "cell_type": "code",
   "execution_count": 3,
   "metadata": {},
   "outputs": [
    {
     "name": "stdin",
     "output_type": "stream",
     "text": [
      "Digite um número:  6\n",
      "Digite um número:  5\n",
      "Digite um número:  4\n",
      "Digite um número:  3\n",
      "Digite um número:  2\n",
      "Digite um número:  2\n",
      "Digite um número:  1\n",
      "Digite um número:  0\n",
      "Digite um número:  9\n",
      "Digite um número:  8\n"
     ]
    },
    {
     "name": "stdout",
     "output_type": "stream",
     "text": [
      "[6, 4, 2, 2, 0, 8]\n"
     ]
    }
   ],
   "source": [
    "nums=[] \n",
    "pares=[] \n",
    "for i in range(10):\n",
    "    nums.append(int(input('Digite um número: ')))\n",
    "for i in nums: \n",
    "    if(i%2==0):\n",
    "        pares.append(i)\n",
    "print(f'Pares: {pares})"
   ]
  },
  {
   "cell_type": "markdown",
   "metadata": {
    "id": "bBYPSr8JHpUA"
   },
   "source": [
    "2)Crie um programa que conte quantas vezes cada palavra aparece em uma frase.\n",
    "\n",
    "Pedir ao usuário para digitar uma frase. Imprimir a palavra e quantas vezes ela aparece"
   ]
  },
  {
   "cell_type": "code",
   "execution_count": 4,
   "metadata": {
    "id": "dQLlv-lPKPT4"
   },
   "outputs": [
    {
     "name": "stdin",
     "output_type": "stream",
     "text": [
      "Digite uma frase:  o jupyter não é legal legal é o vscode ou o colaboratory\n"
     ]
    },
    {
     "name": "stdout",
     "output_type": "stream",
     "text": [
      "{'o': 3, 'jupyter': 1, 'não': 1, 'é': 2, 'legal': 2, 'vscode': 1, 'ou': 1, 'colaboratory': 1}\n"
     ]
    }
   ],
   "source": [
    "frase=str(input('Digite uma frase: ')).lower().split()\n",
    "\n",
    "dic={}\n",
    "\n",
    "for i in frase:\n",
    "    dic[i]=0\n",
    "for i in frase:\n",
    "    dic[i]+=1\n",
    "\n",
    "print(dic)\n"
   ]
  },
  {
   "cell_type": "markdown",
   "metadata": {
    "id": "bbWz0aL2HjP3"
   },
   "source": [
    "3)Crie um programa em Python para avaliar um desfile de candidatas. O programa deve:\n",
    "\n",
    "a) Perguntar quantas candidatas vão participar.\n",
    "\n",
    "b) Perguntar o nome de cada candidata.\n",
    "\n",
    "c) Para cada candidata, receber 3 notas (uma de cada jurado).\n",
    "\n",
    "d) Somar as notas e guardar o total em um dicionário, onde a chave é o nome da candidata e o valor é a soma das notas.\n",
    "\n",
    "Mostrar ao final:\n",
    "\n",
    "a) A pontuação total de cada candidata.\n",
    "\n",
    "b) O nome da vencedora (a que tiver a maior pontuação)."
   ]
  },
  {
   "cell_type": "code",
   "execution_count": 16,
   "metadata": {
    "id": "wrhGujbvHebJ"
   },
   "outputs": [
    {
     "name": "stdin",
     "output_type": "stream",
     "text": [
      "Quantas candidatas vão participar:  5\n",
      "Me diga o nome da 1º candidata:  Anna\n",
      "Me diga o nome da 2º candidata:  Eduarda\n",
      "Me diga o nome da 3º candidata:  Elena\n",
      "Me diga o nome da 4º candidata:  Madona\n",
      "Me diga o nome da 5º candidata:  Julia\n"
     ]
    },
    {
     "name": "stdout",
     "output_type": "stream",
     "text": [
      "\n",
      " -------------------- NOTAS! --------------------\n",
      "Anna:13\n",
      "Eduarda:12\n",
      "Elena:22\n",
      "Madona:27\n",
      "Julia:25\n",
      "{'Anna': 13, 'Eduarda': 12, 'Elena': 22, 'Madona': 27, 'Julia': 25}\n",
      "\n",
      " -------------------- CALCULANDO VENCEDORA! --------------------\n",
      "E a ganhadora é...\n",
      "['Madona', 27]\n"
     ]
    }
   ],
   "source": [
    "import random\n",
    "from time import sleep\n",
    "notas=[1, 2, 3, 4, 5, 6, 7, 8, 9, 10]\n",
    "qtd=int(input('Quantas candidatas vão participar: '))\n",
    "cadidatas={}\n",
    "maiornt=['', 0]\n",
    "\n",
    "jurados=['Alex', 'Cauê', 'Davy']\n",
    "\n",
    "for i in range(qtd):\n",
    "    nota=0\n",
    "    for n in range(len(jurados)):\n",
    "        nota+=random.choice(notas)\n",
    "    cadidatas[str(input(f'Me diga o nome da {i+1}º candidata: '))]=nota\n",
    "print('\\n', '-'*20, 'NOTAS!', '-'*20)\n",
    "for nome, nota in cadidatas.items():\n",
    "    print(f'{nome}:{nota}')\n",
    "    if(nota>maiornt[1]):\n",
    "        maiornt[0]=nome\n",
    "        maiornt[1]=nota\n",
    "print(cadidatas)\n",
    "\n",
    "print('\\n', '-'*20, 'CALCULANDO VENCEDORA!', '-'*20)\n",
    "sleep(2)\n",
    "print('E a ganhadora é...')\n",
    "sleep(1)\n",
    "print(maiornt)"
   ]
  }
 ],
 "metadata": {
  "colab": {
   "provenance": []
  },
  "kernelspec": {
   "display_name": "Python 3 (ipykernel)",
   "language": "python",
   "name": "python3"
  },
  "language_info": {
   "codemirror_mode": {
    "name": "ipython",
    "version": 3
   },
   "file_extension": ".py",
   "mimetype": "text/x-python",
   "name": "python",
   "nbconvert_exporter": "python",
   "pygments_lexer": "ipython3",
   "version": "3.11.4"
  }
 },
 "nbformat": 4,
 "nbformat_minor": 4
}
