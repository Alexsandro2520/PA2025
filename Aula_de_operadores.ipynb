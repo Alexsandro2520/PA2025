{
  "nbformat": 4,
  "nbformat_minor": 0,
  "metadata": {
    "colab": {
      "provenance": [],
      "authorship_tag": "ABX9TyP8JfAudSvlYldE7fB61GkN",
      "include_colab_link": true
    },
    "kernelspec": {
      "name": "python3",
      "display_name": "Python 3"
    },
    "language_info": {
      "name": "python"
    }
  },
  "cells": [
    {
      "cell_type": "markdown",
      "metadata": {
        "id": "view-in-github",
        "colab_type": "text"
      },
      "source": [
        "<a href=\"https://colab.research.google.com/github/Alexsandro2520/PA2025/blob/main/Aula_de_operadores.ipynb\" target=\"_parent\"><img src=\"https://colab.research.google.com/assets/colab-badge.svg\" alt=\"Open In Colab\"/></a>"
      ]
    },
    {
      "cell_type": "code",
      "execution_count": 4,
      "metadata": {
        "colab": {
          "base_uri": "https://localhost:8080/"
        },
        "id": "_QJAzp_ed63S",
        "outputId": "e2a4957f-44c7-4c36-ab87-797c4f3edb94"
      },
      "outputs": [
        {
          "output_type": "stream",
          "name": "stdout",
          "text": [
            "Hello World!\n"
          ]
        }
      ],
      "source": [
        "\n",
        "print(\"Hello World!\")"
      ]
    },
    {
      "cell_type": "code",
      "source": [
        "import random as r\n",
        "a=[\"Sim\", \"Talvez\", \"Não\"]\n",
        "print(\"-\"*20, \"SOU O MEGA ROBO DO FUTURO!!\", \"-\"*20)\n",
        "while True:\n",
        "  perg=input(\"Pergunte: \")\n",
        "  print(r.choice(a))\n",
        "exit()"
      ],
      "metadata": {
        "colab": {
          "base_uri": "https://localhost:8080/",
          "height": 373
        },
        "id": "SO0XyPTVgR9g",
        "outputId": "137f57e3-bb1b-4b0e-be03-dea9232a92e6"
      },
      "execution_count": 24,
      "outputs": [
        {
          "output_type": "stream",
          "name": "stdout",
          "text": [
            "-------------------- SOU O MEGA ROBO DO FUTURO!! --------------------\n"
          ]
        },
        {
          "output_type": "error",
          "ename": "KeyboardInterrupt",
          "evalue": "Interrupted by user",
          "traceback": [
            "\u001b[0;31m---------------------------------------------------------------------------\u001b[0m",
            "\u001b[0;31mKeyboardInterrupt\u001b[0m                         Traceback (most recent call last)",
            "\u001b[0;32m<ipython-input-24-3053c3bdbfb5>\u001b[0m in \u001b[0;36m<cell line: 0>\u001b[0;34m()\u001b[0m\n\u001b[1;32m      3\u001b[0m \u001b[0mprint\u001b[0m\u001b[0;34m(\u001b[0m\u001b[0;34m\"-\"\u001b[0m\u001b[0;34m*\u001b[0m\u001b[0;36m20\u001b[0m\u001b[0;34m,\u001b[0m \u001b[0;34m\"SOU O MEGA ROBO DO FUTURO!!\"\u001b[0m\u001b[0;34m,\u001b[0m \u001b[0;34m\"-\"\u001b[0m\u001b[0;34m*\u001b[0m\u001b[0;36m20\u001b[0m\u001b[0;34m)\u001b[0m\u001b[0;34m\u001b[0m\u001b[0;34m\u001b[0m\u001b[0m\n\u001b[1;32m      4\u001b[0m \u001b[0;32mwhile\u001b[0m \u001b[0;32mTrue\u001b[0m\u001b[0;34m:\u001b[0m\u001b[0;34m\u001b[0m\u001b[0;34m\u001b[0m\u001b[0m\n\u001b[0;32m----> 5\u001b[0;31m   \u001b[0mperg\u001b[0m\u001b[0;34m=\u001b[0m\u001b[0minput\u001b[0m\u001b[0;34m(\u001b[0m\u001b[0;34m\"Pergunte: \"\u001b[0m\u001b[0;34m)\u001b[0m\u001b[0;34m\u001b[0m\u001b[0;34m\u001b[0m\u001b[0m\n\u001b[0m\u001b[1;32m      6\u001b[0m   \u001b[0mprint\u001b[0m\u001b[0;34m(\u001b[0m\u001b[0mr\u001b[0m\u001b[0;34m.\u001b[0m\u001b[0mchoice\u001b[0m\u001b[0;34m(\u001b[0m\u001b[0ma\u001b[0m\u001b[0;34m)\u001b[0m\u001b[0;34m)\u001b[0m\u001b[0;34m\u001b[0m\u001b[0;34m\u001b[0m\u001b[0m\n\u001b[1;32m      7\u001b[0m \u001b[0mexit\u001b[0m\u001b[0;34m(\u001b[0m\u001b[0;34m)\u001b[0m\u001b[0;34m\u001b[0m\u001b[0;34m\u001b[0m\u001b[0m\n",
            "\u001b[0;32m/usr/local/lib/python3.11/dist-packages/ipykernel/kernelbase.py\u001b[0m in \u001b[0;36mraw_input\u001b[0;34m(self, prompt)\u001b[0m\n\u001b[1;32m   1175\u001b[0m                 \u001b[0;34m\"raw_input was called, but this frontend does not support input requests.\"\u001b[0m\u001b[0;34m\u001b[0m\u001b[0;34m\u001b[0m\u001b[0m\n\u001b[1;32m   1176\u001b[0m             )\n\u001b[0;32m-> 1177\u001b[0;31m         return self._input_request(\n\u001b[0m\u001b[1;32m   1178\u001b[0m             \u001b[0mstr\u001b[0m\u001b[0;34m(\u001b[0m\u001b[0mprompt\u001b[0m\u001b[0;34m)\u001b[0m\u001b[0;34m,\u001b[0m\u001b[0;34m\u001b[0m\u001b[0;34m\u001b[0m\u001b[0m\n\u001b[1;32m   1179\u001b[0m             \u001b[0mself\u001b[0m\u001b[0;34m.\u001b[0m\u001b[0m_parent_ident\u001b[0m\u001b[0;34m[\u001b[0m\u001b[0;34m\"shell\"\u001b[0m\u001b[0;34m]\u001b[0m\u001b[0;34m,\u001b[0m\u001b[0;34m\u001b[0m\u001b[0;34m\u001b[0m\u001b[0m\n",
            "\u001b[0;32m/usr/local/lib/python3.11/dist-packages/ipykernel/kernelbase.py\u001b[0m in \u001b[0;36m_input_request\u001b[0;34m(self, prompt, ident, parent, password)\u001b[0m\n\u001b[1;32m   1217\u001b[0m             \u001b[0;32mexcept\u001b[0m \u001b[0mKeyboardInterrupt\u001b[0m\u001b[0;34m:\u001b[0m\u001b[0;34m\u001b[0m\u001b[0;34m\u001b[0m\u001b[0m\n\u001b[1;32m   1218\u001b[0m                 \u001b[0;31m# re-raise KeyboardInterrupt, to truncate traceback\u001b[0m\u001b[0;34m\u001b[0m\u001b[0;34m\u001b[0m\u001b[0m\n\u001b[0;32m-> 1219\u001b[0;31m                 \u001b[0;32mraise\u001b[0m \u001b[0mKeyboardInterrupt\u001b[0m\u001b[0;34m(\u001b[0m\u001b[0;34m\"Interrupted by user\"\u001b[0m\u001b[0;34m)\u001b[0m \u001b[0;32mfrom\u001b[0m \u001b[0;32mNone\u001b[0m\u001b[0;34m\u001b[0m\u001b[0;34m\u001b[0m\u001b[0m\n\u001b[0m\u001b[1;32m   1220\u001b[0m             \u001b[0;32mexcept\u001b[0m \u001b[0mException\u001b[0m\u001b[0;34m:\u001b[0m\u001b[0;34m\u001b[0m\u001b[0;34m\u001b[0m\u001b[0m\n\u001b[1;32m   1221\u001b[0m                 \u001b[0mself\u001b[0m\u001b[0;34m.\u001b[0m\u001b[0mlog\u001b[0m\u001b[0;34m.\u001b[0m\u001b[0mwarning\u001b[0m\u001b[0;34m(\u001b[0m\u001b[0;34m\"Invalid Message:\"\u001b[0m\u001b[0;34m,\u001b[0m \u001b[0mexc_info\u001b[0m\u001b[0;34m=\u001b[0m\u001b[0;32mTrue\u001b[0m\u001b[0;34m)\u001b[0m\u001b[0;34m\u001b[0m\u001b[0;34m\u001b[0m\u001b[0m\n",
            "\u001b[0;31mKeyboardInterrupt\u001b[0m: Interrupted by user"
          ]
        }
      ]
    },
    {
      "cell_type": "markdown",
      "source": [
        "#MATEMÁTICA"
      ],
      "metadata": {
        "id": "9rrh6_qZhQz-"
      }
    },
    {
      "cell_type": "markdown",
      "source": [
        "##SOMA\n"
      ],
      "metadata": {
        "id": "MGwmfpzhhgE0"
      }
    },
    {
      "cell_type": "code",
      "source": [
        "n1=int(input(\"Coloque o primeiro número: \"))\n",
        "n2=int(input(\"Coloque o segundo número: \"))\n",
        "print(n1+n2)"
      ],
      "metadata": {
        "colab": {
          "base_uri": "https://localhost:8080/"
        },
        "id": "jpiwYIwPhU6R",
        "outputId": "7d33bc89-5bff-462c-d451-85066f8b7f56"
      },
      "execution_count": 11,
      "outputs": [
        {
          "output_type": "stream",
          "name": "stdout",
          "text": [
            "Coloque o primeiro número: 5\n",
            "Coloque o segundo número: 7\n",
            "12\n"
          ]
        }
      ]
    },
    {
      "cell_type": "markdown",
      "source": [
        "##SUBTRAÇÃO\n"
      ],
      "metadata": {
        "id": "H22OuRGuhu0a"
      }
    },
    {
      "cell_type": "code",
      "source": [
        "n1=int(input(\"Coloque o primeiro número: \"))\n",
        "n2=int(input(\"Coloque o segundo número: \"))\n",
        "print(n1-n2)"
      ],
      "metadata": {
        "id": "20tcclH6hsn6"
      },
      "execution_count": null,
      "outputs": []
    },
    {
      "cell_type": "markdown",
      "source": [
        "##MULTIPLICAÇÃO\n"
      ],
      "metadata": {
        "id": "yHuHy-QMiZ6u"
      }
    },
    {
      "cell_type": "code",
      "source": [
        "n1=int(input(\"Coloque o primeiro número: \"))\n",
        "n2=int(input(\"Coloque o segundo número: \"))\n",
        "print(n1*n2)"
      ],
      "metadata": {
        "colab": {
          "base_uri": "https://localhost:8080/"
        },
        "id": "XTtNulgmilbu",
        "outputId": "7c386f9a-f3d8-4532-d351-fd5e44e5d86f"
      },
      "execution_count": 12,
      "outputs": [
        {
          "output_type": "stream",
          "name": "stdout",
          "text": [
            "Coloque o primeiro número: 5\n",
            "Coloque o segundo número: 7\n",
            "35\n"
          ]
        }
      ]
    },
    {
      "cell_type": "markdown",
      "source": [
        "##DIVISÃO"
      ],
      "metadata": {
        "id": "oeUmbehNiqT_"
      }
    },
    {
      "cell_type": "code",
      "source": [
        "n1=int(input(\"Coloque o primeiro número: \"))\n",
        "n2=int(input(\"Coloque o segundo número: \"))\n",
        "print(n1/n2)"
      ],
      "metadata": {
        "id": "dmUbJxzCivAP"
      },
      "execution_count": null,
      "outputs": []
    },
    {
      "cell_type": "markdown",
      "source": [
        "##IGUALDADE"
      ],
      "metadata": {
        "id": "cdBefR3Ij09m"
      }
    },
    {
      "cell_type": "code",
      "source": [
        "a=int(input(\"Número: \"))\n",
        "if a==5:\n",
        "  print(\"É igual a 5 :)\")\n",
        "else:\n",
        "  print(\"Não é igual a 5 :(\")"
      ],
      "metadata": {
        "colab": {
          "base_uri": "https://localhost:8080/"
        },
        "id": "aj4_XtUJj8j0",
        "outputId": "38c182a6-748a-4685-99f3-36a9d7ed7201"
      },
      "execution_count": 17,
      "outputs": [
        {
          "output_type": "stream",
          "name": "stdout",
          "text": [
            "Número: 3\n",
            "Não é igual a 5 :(\n"
          ]
        }
      ]
    },
    {
      "cell_type": "markdown",
      "source": [
        "##EXPOENTE"
      ],
      "metadata": {
        "id": "TyTeYihekDXv"
      }
    },
    {
      "cell_type": "code",
      "source": [
        "3**5"
      ],
      "metadata": {
        "colab": {
          "base_uri": "https://localhost:8080/"
        },
        "id": "AB0NoReCku-K",
        "outputId": "c4a76501-e048-412e-df75-859984a0bfa3"
      },
      "execution_count": 18,
      "outputs": [
        {
          "output_type": "execute_result",
          "data": {
            "text/plain": [
              "243"
            ]
          },
          "metadata": {},
          "execution_count": 18
        }
      ]
    },
    {
      "cell_type": "markdown",
      "source": [
        "##MAIOR, IGUAL, MENOR, MAIOR OU IGUAL, MENOR OU IGUAL\n",
        "\n",
        "> Adicionar aspas\n",
        "\n"
      ],
      "metadata": {
        "id": "zoeZRpANkyyU"
      }
    },
    {
      "cell_type": "code",
      "source": [
        "#False maior\n",
        "print(3>5)\n",
        "#True maior\n",
        "print(5>3)\n",
        "\n",
        "#False menor\n",
        "print(5<3)\n",
        "#True menor\n",
        "print(3<5)\n",
        "\n",
        "#False igual\n",
        "print(3==5)\n",
        "#True igual\n",
        "print(3==3)\n",
        "\n",
        "#False maior ou igual maior\n",
        "print(5>=6)\n",
        "#True maior ou igual\n",
        "print(5>=3)\n",
        "#True maior ou igual 2\n",
        "print(5>=5)\n",
        "\n",
        "#False menor ou igual maior\n",
        "print(5<=4)\n",
        "#True menor ou igual\n",
        "print(5<=7)\n",
        "#True menor ou igual 2\n",
        "print(5<=5)"
      ],
      "metadata": {
        "colab": {
          "base_uri": "https://localhost:8080/"
        },
        "id": "vLERVWWzlGpz",
        "outputId": "7b78b487-44f9-441e-d6a8-1bfcc7061bb0"
      },
      "execution_count": 27,
      "outputs": [
        {
          "output_type": "stream",
          "name": "stdout",
          "text": [
            "False\n",
            "True\n",
            "False\n",
            "True\n",
            "False\n",
            "True\n",
            "False\n",
            "True\n",
            "True\n",
            "False\n",
            "True\n",
            "True\n"
          ]
        }
      ]
    },
    {
      "cell_type": "markdown",
      "source": [
        "##DIFERENTE"
      ],
      "metadata": {
        "id": "dSj9qq79nlgQ"
      }
    },
    {
      "cell_type": "code",
      "source": [
        "a=4\n",
        "\n",
        "print(a!=4)\n",
        "print(a!=2)"
      ],
      "metadata": {
        "colab": {
          "base_uri": "https://localhost:8080/"
        },
        "id": "9wnPJ5cYnqPo",
        "outputId": "9f09a65b-b033-4ecf-87cd-47b4e50157a8"
      },
      "execution_count": 30,
      "outputs": [
        {
          "output_type": "stream",
          "name": "stdout",
          "text": [
            "False\n",
            "True\n"
          ]
        }
      ]
    },
    {
      "cell_type": "markdown",
      "source": [
        "##VARIÁVEIS"
      ],
      "metadata": {
        "id": "QPWg9_i2oCkz"
      }
    },
    {
      "cell_type": "code",
      "source": [
        "nome=\"Alex\"\n",
        "sobrenome=\"Sandro\"\n",
        "print(nome+\" \"+sobrenome)"
      ],
      "metadata": {
        "colab": {
          "base_uri": "https://localhost:8080/"
        },
        "id": "92k5ldWxovqQ",
        "outputId": "94480b8c-1efe-4b19-baf2-b3b475663bcb"
      },
      "execution_count": 1,
      "outputs": [
        {
          "output_type": "stream",
          "name": "stdout",
          "text": [
            "Nome: \n",
            "Sobrenome: \n",
            "['Mario']   ['Da silva']\n"
          ]
        }
      ]
    },
    {
      "cell_type": "code",
      "source": [
        "nome1=str(input(\"Coloque seu nome aqui: \"))\n",
        "sobrenome1=str(input(\"Coloque seu sobrenome aqui: \"))\n",
        "\n",
        "print('Olá '+nome1+' '+sobrenome1+'! Seja bem vindo ao meu mundo!')"
      ],
      "metadata": {
        "colab": {
          "base_uri": "https://localhost:8080/"
        },
        "id": "Yc5AabcBr6Ru",
        "outputId": "0553898e-9450-40a6-e96f-b37e8c7f4f2c"
      },
      "execution_count": 2,
      "outputs": [
        {
          "output_type": "stream",
          "name": "stdout",
          "text": [
            "Coloque seu nome aqui: Roberto\n",
            "Coloque seu sobrenome aqui: Alakazan\n",
            "Olá Roberto Alakazan! Seja bem vindo ao meu mundo!\n"
          ]
        }
      ]
    },
    {
      "cell_type": "code",
      "source": [
        "#Apresentação\n",
        "print('-'*20, \"O Calculo de um rentangulo\", \"-\"*20)\n",
        "#Dando espaço no texto\n",
        "print('\\n')\n",
        "\n",
        "#Lado do quadrado\n",
        "lado=int(input(\"O lado é igual a: \"))\n",
        "#Altura do quadrado\n",
        "altura=int(input(\"O altura é igual a: \"))\n",
        "\n",
        "#Calculo da altura vezes lado\n",
        "area=lado*altura\n",
        "#Mostrando resultado\n",
        "print('A area do objeto em questão é ', area)\n",
        "if(lado==altura): print(\"É um quadrado!\")\n",
        "else: print(\"É um retangulo!\")"
      ],
      "metadata": {
        "colab": {
          "base_uri": "https://localhost:8080/"
        },
        "id": "AqBuV014tuqB",
        "outputId": "b04b3097-9ec1-44c7-e3db-18f4371a2bad"
      },
      "execution_count": 9,
      "outputs": [
        {
          "output_type": "stream",
          "name": "stdout",
          "text": [
            "-------------------- O Calculo de um rentangulo --------------------\n",
            "\n",
            "\n",
            "O lado é igual a: 5\n",
            "O altura é igual a: 6\n",
            "A area do objeto em questão é  30\n",
            "É um retangulo!\n"
          ]
        }
      ]
    }
  ]
}