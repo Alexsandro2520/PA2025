{
  "nbformat": 4,
  "nbformat_minor": 0,
  "metadata": {
    "colab": {
      "provenance": [],
      "authorship_tag": "ABX9TyOBGQZJki4VFdu0qFOrZny7",
      "include_colab_link": true
    },
    "kernelspec": {
      "name": "python3",
      "display_name": "Python 3"
    },
    "language_info": {
      "name": "python"
    }
  },
  "cells": [
    {
      "cell_type": "markdown",
      "metadata": {
        "id": "view-in-github",
        "colab_type": "text"
      },
      "source": [
        "<a href=\"https://colab.research.google.com/github/Alexsandro2520/PA2025/blob/main/Untitled0.ipynb\" target=\"_parent\"><img src=\"https://colab.research.google.com/assets/colab-badge.svg\" alt=\"Open In Colab\"/></a>"
      ]
    },
    {
      "cell_type": "markdown",
      "source": [
        "# Alex trabalho 🗿🍷"
      ],
      "metadata": {
        "id": "hete8FPfWn1-"
      }
    },
    {
      "cell_type": "code",
      "execution_count": 1,
      "metadata": {
        "colab": {
          "base_uri": "https://localhost:8080/"
        },
        "id": "_-Wf5U6fVKSm",
        "outputId": "d0644b2a-fd13-4800-dc4a-41b76b86a8a9"
      },
      "outputs": [
        {
          "output_type": "stream",
          "name": "stdout",
          "text": [
            "Hello my little pony\n"
          ]
        }
      ],
      "source": [
        "aula=\"Hello my little pony\"\n",
        "print(aula)"
      ]
    },
    {
      "cell_type": "markdown",
      "source": [
        "##Inicio"
      ],
      "metadata": {
        "id": "jEtLaxKEMIET"
      }
    },
    {
      "cell_type": "code",
      "source": [
        "#Entrada\n",
        "lado = 4"
      ],
      "metadata": {
        "id": "DBboPYRwWVzz"
      },
      "execution_count": 2,
      "outputs": []
    },
    {
      "cell_type": "markdown",
      "source": [
        "##Calculo"
      ],
      "metadata": {
        "id": "-xy7yRhvMQaA"
      }
    },
    {
      "cell_type": "code",
      "source": [
        "#Calculo\n",
        "calculo = lado * lado\n",
        "print(f\"o calculo é: {calculo}\")"
      ],
      "metadata": {
        "id": "1P5Klk1rM1NM"
      },
      "execution_count": null,
      "outputs": []
    }
  ]
}
