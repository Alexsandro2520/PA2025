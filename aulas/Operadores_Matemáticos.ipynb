{
  "nbformat": 4,
  "nbformat_minor": 0,
  "metadata": {
    "colab": {
      "provenance": [],
      "authorship_tag": "ABX9TyNK0nnGYzKG9ziyRP3kekoj",
      "include_colab_link": true
    },
    "kernelspec": {
      "name": "python3",
      "display_name": "Python 3"
    },
    "language_info": {
      "name": "python"
    }
  },
  "cells": [
    {
      "cell_type": "markdown",
      "metadata": {
        "id": "view-in-github",
        "colab_type": "text"
      },
      "source": [
        "<a href=\"https://colab.research.google.com/github/Alexsandro2520/PA2025/blob/main/Operadores_Matem%C3%A1ticos.ipynb\" target=\"_parent\"><img src=\"https://colab.research.google.com/assets/colab-badge.svg\" alt=\"Open In Colab\"/></a>"
      ]
    },
    {
      "cell_type": "markdown",
      "source": [
        "#Calculando as notas dos alunos"
      ],
      "metadata": {
        "id": "DfyHjkmpfn6y"
      }
    },
    {
      "cell_type": "markdown",
      "source": [
        "##Pegando os dados dos alunos"
      ],
      "metadata": {
        "id": "jYkPP2JugvfJ"
      }
    },
    {
      "cell_type": "code",
      "execution_count": 10,
      "metadata": {
        "colab": {
          "base_uri": "https://localhost:8080/"
        },
        "id": "kDpbnXGYfSRI",
        "outputId": "59f87453-2472-40b4-af7c-c76c1a658c7d"
      },
      "outputs": [
        {
          "name": "stdout",
          "output_type": "stream",
          "text": [
            "Quanto o aluno tirou na prova 1: 8\n",
            "Quanto o aluno tirou na prova 2: 7\n"
          ]
        }
      ],
      "source": [
        "#Pegando a nota da primeira prova\n",
        "p1=float(input('Quanto o aluno tirou na prova 1: '))\n",
        "#Pegando a nota da segunda prova\n",
        "p2=float(input('Quanto o aluno tirou na prova 2: '))"
      ]
    },
    {
      "cell_type": "markdown",
      "source": [
        "##Processamento"
      ],
      "metadata": {
        "id": "TJlybKnEg1vP"
      }
    },
    {
      "cell_type": "code",
      "source": [
        "#Calculando a média\n",
        "media=(p1+p2)/2"
      ],
      "metadata": {
        "id": "aeXru5kTg3ha"
      },
      "execution_count": 11,
      "outputs": []
    },
    {
      "cell_type": "markdown",
      "source": [
        "##Saída"
      ],
      "metadata": {
        "id": "UwI0lbySg5_M"
      }
    },
    {
      "cell_type": "code",
      "source": [
        "#Mostrando resultado\n",
        "print(media)"
      ],
      "metadata": {
        "colab": {
          "base_uri": "https://localhost:8080/"
        },
        "id": "VndWqCRHg9Xt",
        "outputId": "33b50a01-2ed2-4d89-ebf5-f99f65cd9c52"
      },
      "execution_count": 12,
      "outputs": [
        {
          "output_type": "stream",
          "name": "stdout",
          "text": [
            "Passou de ano! Sua média ficou 7.5\n"
          ]
        }
      ]
    },
    {
      "cell_type": "markdown",
      "source": [
        "##Código Completo(e algumas alterações)"
      ],
      "metadata": {
        "id": "fyHISduih5y_"
      }
    },
    {
      "cell_type": "code",
      "source": [
        "##DADOS DE ENTRADA\n",
        "#Pegando a nota da primeira prova\n",
        "p1=int(input('Quanto o aluno tirou na prova 1: '))\n",
        "#Pegando a nota da segunda prova\n",
        "p2=int(input('Quanto o aluno tirou na prova 2: '))\n",
        "\n",
        "##PROCESSAMENTO\n",
        "#Calculando a média\n",
        "media=(p1+p2)/2\n",
        "\n",
        "##DADOS DE SAÍDA\n",
        "#Mostrando resultado\n",
        "if(media>=5):\n",
        "  print(f\"Passou de ano! Sua média ficou {media}\")\n",
        "else:\n",
        "  print(f\"Não passou de ano!  Sua média ficou {media}\")\n"
      ],
      "metadata": {
        "colab": {
          "base_uri": "https://localhost:8080/"
        },
        "id": "2UNXtBCAh-T3",
        "outputId": "16303df1-1900-4e65-ff5e-14b3f8db612b"
      },
      "execution_count": 14,
      "outputs": [
        {
          "output_type": "stream",
          "name": "stdout",
          "text": [
            "Quanto o aluno tirou na prova 1: 7\n",
            "Quanto o aluno tirou na prova 2: 4\n",
            "Passou de ano! Sua média ficou 5.5\n"
          ]
        }
      ]
    },
    {
      "cell_type": "markdown",
      "source": [
        "#Exercícios"
      ],
      "metadata": {
        "id": "C09uEXoToJUN"
      }
    },
    {
      "cell_type": "markdown",
      "source": [
        "##Peças"
      ],
      "metadata": {
        "id": "Kgzxo4FIt2qi"
      }
    },
    {
      "cell_type": "code",
      "source": [
        "#Valor da peça\n",
        "valor=int(input(\"Qual o valor da peça: \"))\n",
        "#Pegando a quantidade de peças\n",
        "qtde=int(input(\"Quantas peças você possui: \"))\n",
        "\n",
        "##Processamento\n",
        "#Valor total\n",
        "vt=valor*qtde\n",
        "\n",
        "#Mostrando o valor total\n",
        "print(f\"Valor total é de {vt}\")"
      ],
      "metadata": {
        "colab": {
          "base_uri": "https://localhost:8080/"
        },
        "id": "SeUduZ16oMhO",
        "outputId": "27c05f38-54c8-4bf9-b2df-bea557b74ab4"
      },
      "execution_count": 18,
      "outputs": [
        {
          "output_type": "stream",
          "name": "stdout",
          "text": [
            "Qual o valor da peça? 5\n",
            "Quantas peças você possui? 50\n",
            "Valor total é de 250\n"
          ]
        }
      ]
    },
    {
      "cell_type": "markdown",
      "source": [
        "##Celsius para Fahrenheit"
      ],
      "metadata": {
        "id": "amhysvlruICK"
      }
    },
    {
      "cell_type": "code",
      "source": [
        "#Coletando dados\n",
        "c=int(input(\"Celsius: \"))\n",
        "#Calculo\n",
        "fa=(c*1.8)+32\n",
        "#Saída\n",
        "print(f'Fahrenheit: {fa}')\n",
        "print('Fahrenheit:', fa)"
      ],
      "metadata": {
        "colab": {
          "base_uri": "https://localhost:8080/"
        },
        "id": "S8brZCNluHb7",
        "outputId": "7e3c6cd7-f5a3-4850-9c21-4f72535dd478"
      },
      "execution_count": 24,
      "outputs": [
        {
          "output_type": "stream",
          "name": "stdout",
          "text": [
            "Celsius: 22\n",
            "Fahrenheit: 71.6\n",
            "Fahrenheit: 71.6\n"
          ]
        }
      ]
    },
    {
      "cell_type": "markdown",
      "source": [
        "##KM em MILHA"
      ],
      "metadata": {
        "id": "_SG_0l6yzS9W"
      }
    },
    {
      "cell_type": "code",
      "source": [
        "#Coletando dados\n",
        "km=int(input(\"KM: \"))\n",
        "milha=0.62137\n",
        "\n",
        "#Calculo\n",
        "#Round é uma função usada para arredondar número decimal\n",
        "milhas=round(km*milha, 6)\n",
        "\n",
        "print(f\"{km} KM deu {milhas} milhas\")"
      ],
      "metadata": {
        "colab": {
          "base_uri": "https://localhost:8080/"
        },
        "id": "KCeVKAZxzgzd",
        "outputId": "e25820bc-b224-47c2-93ce-e3f65aef601c"
      },
      "execution_count": 28,
      "outputs": [
        {
          "output_type": "stream",
          "name": "stdout",
          "text": [
            "KM: 15\n",
            "15 KM deu 9.32055 milhas\n"
          ]
        }
      ]
    }
  ]
}
