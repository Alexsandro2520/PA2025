{
  "nbformat": 4,
  "nbformat_minor": 0,
  "metadata": {
    "colab": {
      "provenance": [],
      "authorship_tag": "ABX9TyNwn9/GGIEabSNH2Eej8Mn8",
      "include_colab_link": true
    },
    "kernelspec": {
      "name": "python3",
      "display_name": "Python 3"
    },
    "language_info": {
      "name": "python"
    }
  },
  "cells": [
    {
      "cell_type": "markdown",
      "metadata": {
        "id": "view-in-github",
        "colab_type": "text"
      },
      "source": [
        "<a href=\"https://colab.research.google.com/github/Alexsandro2520/PA2025/blob/main/comissao.ipynb\" target=\"_parent\"><img src=\"https://colab.research.google.com/assets/colab-badge.svg\" alt=\"Open In Colab\"/></a>"
      ]
    },
    {
      "cell_type": "code",
      "execution_count": 1,
      "metadata": {
        "colab": {
          "base_uri": "https://localhost:8080/"
        },
        "id": "D1-Z0_O1L_d5",
        "outputId": "13e51c5f-a2e8-4df3-d074-93ef849e905e"
      },
      "outputs": [
        {
          "output_type": "stream",
          "name": "stdout",
          "text": [
            "Valor: 10\n",
            "Quantidade: 2\n",
            "A comissão do produto será 1.0.\n"
          ]
        }
      ],
      "source": [
        "#Entrada\n",
        "valor=float(input(\"Valor: \"))\n",
        "qtde=int(input(\"Quantidade: \"))\n",
        "\n",
        "#Calculo\n",
        "venda=valor*qtde\n",
        "comissao=(venda*5)/100\n",
        "\n",
        "#Saída\n",
        "print(f\"A comissão do produto será {comissao}\")"
      ]
    }
  ]
}
