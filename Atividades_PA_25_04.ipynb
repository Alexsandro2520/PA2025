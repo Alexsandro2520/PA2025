{
  "nbformat": 4,
  "nbformat_minor": 0,
  "metadata": {
    "colab": {
      "provenance": [],
      "authorship_tag": "ABX9TyPSW1JpWfolpkHpo7LVYpwz",
      "include_colab_link": true
    },
    "kernelspec": {
      "name": "python3",
      "display_name": "Python 3"
    },
    "language_info": {
      "name": "python"
    }
  },
  "cells": [
    {
      "cell_type": "markdown",
      "metadata": {
        "id": "view-in-github",
        "colab_type": "text"
      },
      "source": [
        "<a href=\"https://colab.research.google.com/github/Alexsandro2520/PA2025/blob/main/Atividades_PA_25_04.ipynb\" target=\"_parent\"><img src=\"https://colab.research.google.com/assets/colab-badge.svg\" alt=\"Open In Colab\"/></a>"
      ]
    },
    {
      "cell_type": "markdown",
      "source": [
        "##  PAR OU IMPAR"
      ],
      "metadata": {
        "id": "BNcrCmPaFnRJ"
      }
    },
    {
      "cell_type": "code",
      "execution_count": 26,
      "metadata": {
        "colab": {
          "base_uri": "https://localhost:8080/"
        },
        "id": "ILDtdS-P1E7u",
        "outputId": "65e9e43a-9da2-4644-8e61-b08bd5d07047"
      },
      "outputs": [
        {
          "output_type": "stream",
          "name": "stdout",
          "text": [
            "--------------------------------------------- COMEÇANDO ---------------------------------------------\n",
            "Me fala um número aí vai: 5\n",
            "False\n"
          ]
        }
      ],
      "source": [
        "print(\"-\"*45, \"PAR OU IMPAR\", \"-\"*45)\n",
        "\n",
        "#Entrada\n",
        "num=float(input(\"Me fala um número aí vai: \"))\n",
        "\n",
        "#Processamento\n",
        "par=(int(num/2)==(num/2))\n",
        "\n",
        "#saida\n",
        "print(f\"Este número é par? {par}\")\n"
      ]
    },
    {
      "cell_type": "markdown",
      "source": [
        "##TRIANGULOS :)"
      ],
      "metadata": {
        "id": "gAp21GreFiEH"
      }
    },
    {
      "cell_type": "code",
      "source": [
        "print(\"-\"*45, \"TRIANGULOS\", \"-\"*45, \"\\n\")\n",
        "\n",
        "#Entrada\n",
        "l1=float(input(\"Digite o primeiro lado de um triangulo: \"))\n",
        "l2=float(input(\"Digite o segundo lado de um triangulo: \"))\n",
        "l3=float(input(\"Digite o terceiro lado de um triangulo: \"))\n",
        "\n",
        "#Processamento\n",
        "triangulo=((l1+l2>l3) and (l1+l3>l2) and (l2+l3>l1))\n",
        "equilatero=(l1==l2==l3)\n",
        "escaleno=(l1!=l2!=l3)\n",
        "isosceles=(l1==l2 or l1==l3 or l2==l3)\n",
        "\n",
        "#Saída\n",
        "print(f\"É um triangulo? {triangulo}\")\n",
        "print(f\"É um equilatero? {equilatero}\")\n",
        "print(f\"É um escaleno? {escaleno}\")\n",
        "print(f\"É um isosceles {isosceles}\")\n"
      ],
      "metadata": {
        "colab": {
          "base_uri": "https://localhost:8080/"
        },
        "id": "dgp_QgdF9DQi",
        "outputId": "0e389d1a-608a-48b0-e3c8-66d649cb81f4"
      },
      "execution_count": 40,
      "outputs": [
        {
          "output_type": "stream",
          "name": "stdout",
          "text": [
            "--------------------------------------------- TRIANGULOS --------------------------------------------- \n",
            "\n",
            "Digite o primeiro lado de um triangulo: 5\n",
            "Digite o segundo lado de um triangulo: 6\n",
            "Digite o terceiro lado de um triangulo: 6\n",
            "É um triangulo? True\n",
            "É um equilatero? False\n",
            "É um escaleno? False\n",
            "É um isosceles True\n"
          ]
        }
      ]
    },
    {
      "cell_type": "markdown",
      "source": [
        "##Caulculo IMC"
      ],
      "metadata": {
        "id": "IkxgqMBdJsSq"
      }
    },
    {
      "cell_type": "code",
      "source": [
        "from math import *\n",
        "print(\"-\"*45, \"TRIANGULOS\", \"-\"*45, \"\\n\")\n",
        "\n",
        "#Entrada\n",
        "peso=float(input(\"Me informe seu peso: \"))\n",
        "altura=float(input(\"Me informe sua altura: \"))\n",
        "\n",
        "#Processamento\n",
        "imc=(peso/altura**2)\n",
        "imc=round(imc, 1)\n",
        "\n",
        "#Saida\n",
        "print(f\"Seu imc é {imc}\")\n",
        "print(f\"Você está abaixo do peso? {imc<=18.5}\")\n",
        "print(f\"Você está normal de peso? {imc>=18.6 and imc<=24.9}\")\n",
        "print(f\"Você está acima do peso? {imc>=25 and imc<=29.9}\")\n",
        "print(f\"Você está obeso nivel 1? {imc>=30 and imc<=34.9}\")\n",
        "print(f\"Você está obeso nivel 2? {imc>=35 and imc<=39.9}\")\n",
        "print(f\"Você está obeso nivel 3? {imc>=40}\")\n"
      ],
      "metadata": {
        "colab": {
          "base_uri": "https://localhost:8080/"
        },
        "id": "GaHTZSzkJy0a",
        "outputId": "ae1e003a-e660-4ce3-c3ed-aa00aa94e6f1"
      },
      "execution_count": 54,
      "outputs": [
        {
          "output_type": "stream",
          "name": "stdout",
          "text": [
            "--------------------------------------------- TRIANGULOS --------------------------------------------- \n",
            "\n",
            "Me informe seu peso: 57\n",
            "Me informe sua altura: 1.75\n",
            "Seu imc é 18.6\n",
            "Você está abaixo do peso? False\n",
            "Você está normal de peso? True\n",
            "Você está acima do peso? False\n",
            "Você está obeso nivel 1? False\n",
            "Você está obeso nivel 2? False\n",
            "Você está obeso nivel 3? False\n"
          ]
        }
      ]
    },
    {
      "cell_type": "markdown",
      "source": [
        "##Volêi"
      ],
      "metadata": {
        "id": "00q1o3jhQodd"
      }
    },
    {
      "cell_type": "code",
      "source": [
        "print(\"-\"*45, \"VOLÊI\", \"-\"*45, \"\\n\")\n",
        "\n",
        "#Entrada\n",
        "idade=float(input(\"Me diga sua idade: \"))\n",
        "altura=float(input(\"Me diga sua altura: \"))\n",
        "\n",
        "#Processamento\n",
        "\n",
        "\n",
        "#Saída\n",
        "print(f\"Você pode participar? {altura>1.75 and idade>18}\")"
      ],
      "metadata": {
        "colab": {
          "base_uri": "https://localhost:8080/"
        },
        "id": "XUz3QRtVQsm9",
        "outputId": "e635c077-a79b-4af3-d58a-34b99b28864c"
      },
      "execution_count": 57,
      "outputs": [
        {
          "output_type": "stream",
          "name": "stdout",
          "text": [
            "--------------------------------------------- VOLÊI --------------------------------------------- \n",
            "\n",
            "Me diga sua idade: 19\n",
            "Me diga sua altura: 1.8\n",
            "Você pode participar? True\n"
          ]
        }
      ]
    }
  ]
}