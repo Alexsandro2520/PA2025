{
  "nbformat": 4,
  "nbformat_minor": 0,
  "metadata": {
    "colab": {
      "provenance": [],
      "authorship_tag": "ABX9TyM8ECRds+/EG0AR/zUYn7sI",
      "include_colab_link": true
    },
    "kernelspec": {
      "name": "python3",
      "display_name": "Python 3"
    },
    "language_info": {
      "name": "python"
    }
  },
  "cells": [
    {
      "cell_type": "markdown",
      "metadata": {
        "id": "view-in-github",
        "colab_type": "text"
      },
      "source": [
        "<a href=\"https://colab.research.google.com/github/Alexsandro2520/PA2025/blob/main/Atividade_com_Fun%C3%A7%C3%B5es.ipynb\" target=\"_parent\"><img src=\"https://colab.research.google.com/assets/colab-badge.svg\" alt=\"Open In Colab\"/></a>"
      ]
    },
    {
      "cell_type": "code",
      "source": [
        "def println(_text, _reps=35):\n",
        "  print(f'{'-'*_reps}{_text}{'-'*_reps}')"
      ],
      "metadata": {
        "id": "nEMXxrF9Re2z"
      },
      "execution_count": 2,
      "outputs": []
    },
    {
      "cell_type": "markdown",
      "source": [
        "##1 - Mensagem de Boas-vindas"
      ],
      "metadata": {
        "id": "t0gnDCtkR5d0"
      }
    },
    {
      "cell_type": "code",
      "execution_count": 5,
      "metadata": {
        "colab": {
          "base_uri": "https://localhost:8080/"
        },
        "id": "VSzWbs-ZRYGW",
        "outputId": "65feba87-2a57-4aab-979e-699c3b9e7ff6"
      },
      "outputs": [
        {
          "output_type": "stream",
          "name": "stdout",
          "text": [
            "-----------------------------------Atividade 1-----------------------------------\n",
            "So easy\n"
          ]
        }
      ],
      "source": [
        "println(\"Atividade 1\")\n",
        "\n",
        "def saudacao():\n",
        "  print('So easy')\n",
        "\n",
        "\n",
        "saudacao()"
      ]
    },
    {
      "cell_type": "markdown",
      "source": [
        "##2 - Conversor de Temperatura"
      ],
      "metadata": {
        "id": "psfJukMoSMd-"
      }
    },
    {
      "cell_type": "code",
      "source": [
        "def celsius_para_fahrenheit(_c):\n",
        "  return _c*(9/5)+32\n",
        "\n",
        "print(celsius_para_fahrenheit(22))"
      ],
      "metadata": {
        "colab": {
          "base_uri": "https://localhost:8080/"
        },
        "id": "5lBMjBgoST5D",
        "outputId": "4f7ea24c-9bf1-49a7-9630-0871a83b1f4f"
      },
      "execution_count": 7,
      "outputs": [
        {
          "output_type": "stream",
          "name": "stdout",
          "text": [
            "71.6\n"
          ]
        }
      ]
    },
    {
      "cell_type": "markdown",
      "source": [
        "##3 - Mensagem Personalizada"
      ],
      "metadata": {
        "id": "IQQvRemMSz7V"
      }
    },
    {
      "cell_type": "code",
      "source": [
        "def boas_vindas_personalizada(text):\n",
        "  print(text)\n",
        "\n",
        "boas_vindas_personalizada(\"Opa! Bão!\")"
      ],
      "metadata": {
        "colab": {
          "base_uri": "https://localhost:8080/"
        },
        "id": "B_1lzclhS31S",
        "outputId": "0b2ce234-bb1a-466f-c26a-316306f762c3"
      },
      "execution_count": 8,
      "outputs": [
        {
          "output_type": "stream",
          "name": "stdout",
          "text": [
            "Opa! Bão!\n"
          ]
        }
      ]
    },
    {
      "cell_type": "markdown",
      "source": [
        "##4 - Quadrado e Cubo"
      ],
      "metadata": {
        "id": "sMaaQYLhTKss"
      }
    },
    {
      "cell_type": "code",
      "source": [
        "def calcular_potencias(n):\n",
        "\n",
        "  return (n*n, n*n*n)\n",
        "\n",
        "print(calcular_potencias(5))"
      ],
      "metadata": {
        "colab": {
          "base_uri": "https://localhost:8080/"
        },
        "id": "QyfaTKlrTO27",
        "outputId": "dcd33479-7dec-4e0d-edc1-d5b60438e40f"
      },
      "execution_count": 10,
      "outputs": [
        {
          "output_type": "stream",
          "name": "stdout",
          "text": [
            "(25, 125)\n"
          ]
        }
      ]
    },
    {
      "cell_type": "markdown",
      "source": [
        "##5 - Contagem Regressiva"
      ],
      "metadata": {
        "id": "V-FSsLgbTikN"
      }
    },
    {
      "cell_type": "code",
      "source": [
        "def contagem_regressiva(inicio):\n",
        "  for i in range(inicio):\n",
        "    print(inicio-i)\n",
        "contagem_regressiva(5)"
      ],
      "metadata": {
        "colab": {
          "base_uri": "https://localhost:8080/"
        },
        "id": "U0YvfnvwTn1N",
        "outputId": "c6899df8-e321-438d-ca70-ad21bce976c4"
      },
      "execution_count": 12,
      "outputs": [
        {
          "output_type": "stream",
          "name": "stdout",
          "text": [
            "5\n",
            "4\n",
            "3\n",
            "2\n",
            "1\n"
          ]
        }
      ]
    },
    {
      "cell_type": "markdown",
      "source": [
        "##6 - Cálculo de Desconto"
      ],
      "metadata": {
        "id": "OD9t59xuUUHp"
      }
    },
    {
      "cell_type": "code",
      "source": [
        "def calcular_desconto(val0, percentdesconto):\n",
        "  return val0*(1-(percentdesconto/100))\n",
        "\n",
        "print(calcular_desconto(100, 50))"
      ],
      "metadata": {
        "colab": {
          "base_uri": "https://localhost:8080/"
        },
        "id": "9zqnIaIhUZBs",
        "outputId": "bc7209de-1fad-4d58-a731-421257b0107c"
      },
      "execution_count": 14,
      "outputs": [
        {
          "output_type": "stream",
          "name": "stdout",
          "text": [
            "50.0\n"
          ]
        }
      ]
    },
    {
      "cell_type": "markdown",
      "source": [
        "##7- Maior e Menor"
      ],
      "metadata": {
        "id": "Leq0NIXVU4tI"
      }
    },
    {
      "cell_type": "code",
      "source": [
        "def encontrar_extremos(arrayn):\n",
        "  return (max(arrayn), min(arrayn))\n",
        "\n",
        "print(encontrar_extremos([1, 2, 3, 4, 5, 6, 7, 8, 9, 10, -1]))"
      ],
      "metadata": {
        "colab": {
          "base_uri": "https://localhost:8080/"
        },
        "id": "l1c_pjE7U5ct",
        "outputId": "2beb3c87-0dea-4f53-b552-f66c34224632"
      },
      "execution_count": 17,
      "outputs": [
        {
          "output_type": "stream",
          "name": "stdout",
          "text": [
            "(10, -1)\n"
          ]
        }
      ]
    },
    {
      "cell_type": "markdown",
      "source": [
        "##8 - Calculadora Simples"
      ],
      "metadata": {
        "id": "JqC7UhBzVdOp"
      }
    },
    {
      "cell_type": "code",
      "source": [
        "def calculadora(a, b, op):\n",
        "  if(op==\"+\"):return a+b\n",
        "  elif(op==\"-\"):return a-b\n",
        "  elif(op==\"x\" or op=='*'):return a*b\n",
        "  if(op==\"/\" or op==\":\"):return a/b\n",
        "\n",
        "print(calculadora(5, 5, \"+\"))\n",
        "print(calculadora(5, 5, \"-\"))\n",
        "print(calculadora(5, 5, \"*\"))\n",
        "print(calculadora(5, 5, \"/\"))"
      ],
      "metadata": {
        "colab": {
          "base_uri": "https://localhost:8080/"
        },
        "id": "Jo_xZXYwVqBa",
        "outputId": "ba78303a-bac5-416c-a8cc-33eb9dc9bcf1"
      },
      "execution_count": 18,
      "outputs": [
        {
          "output_type": "stream",
          "name": "stdout",
          "text": [
            "10\n",
            "0\n",
            "25\n",
            "1.0\n"
          ]
        }
      ]
    },
    {
      "cell_type": "markdown",
      "source": [
        "##9 - Mensagem Automática"
      ],
      "metadata": {
        "id": "_I9dyLqrVfDE"
      }
    },
    {
      "cell_type": "code",
      "source": [
        "def enviar_email(destinario, assunto, corpo=\"\"):\n",
        "  return f\"Destinario: {destinario}\\nAssunto: {assunto}\\n\\n{corpo}\"\n",
        "print(enviar_email(\"Paulo\", \"coisas legais\"))"
      ],
      "metadata": {
        "colab": {
          "base_uri": "https://localhost:8080/"
        },
        "id": "MCWP_r5sVqZJ",
        "outputId": "cb1b2552-719a-45f5-899b-b1da24e4162a"
      },
      "execution_count": 19,
      "outputs": [
        {
          "output_type": "stream",
          "name": "stdout",
          "text": [
            "Destinario:Paulo\n",
            "Assunto:coisas legais\n",
            "\n",
            "\n"
          ]
        }
      ]
    },
    {
      "cell_type": "markdown",
      "source": [
        "##10 - Sistema de Notas"
      ],
      "metadata": {
        "id": "M1Z4sZMUVfL2"
      }
    },
    {
      "cell_type": "code",
      "source": [
        "def avaliar_aluno(nota):\n",
        "  if(nota>=7):return \"Aprovado\"\n",
        "  elif(nota>=5 and nota<7):return \"Recuperação\"\n",
        "  elif(nota<5):return \"Reprovado\"\n",
        "\n",
        "print()\n",
        "print()\n",
        "print()"
      ],
      "metadata": {
        "id": "1raPvWmUVrHA"
      },
      "execution_count": null,
      "outputs": []
    }
  ]
}