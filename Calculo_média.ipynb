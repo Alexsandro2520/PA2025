{
  "nbformat": 4,
  "nbformat_minor": 0,
  "metadata": {
    "colab": {
      "provenance": [],
      "authorship_tag": "ABX9TyPgQiIuG0IvkxS0bpoRH3Sn",
      "include_colab_link": true
    },
    "kernelspec": {
      "name": "python3",
      "display_name": "Python 3"
    },
    "language_info": {
      "name": "python"
    }
  },
  "cells": [
    {
      "cell_type": "markdown",
      "metadata": {
        "id": "view-in-github",
        "colab_type": "text"
      },
      "source": [
        "<a href=\"https://colab.research.google.com/github/Alexsandro2520/PA2025/blob/main/Calculo_m%C3%A9dia.ipynb\" target=\"_parent\"><img src=\"https://colab.research.google.com/assets/colab-badge.svg\" alt=\"Open In Colab\"/></a>"
      ]
    },
    {
      "cell_type": "code",
      "execution_count": null,
      "metadata": {
        "id": "NtmUwTx1ErAX"
      },
      "outputs": [],
      "source": [
        "#Dados de entrada\n",
        "num1=int(input(\"Número 1: \"))\n",
        "num2=int(input(\"Número 2: \"))\n",
        "\n",
        "#Calculo\n",
        "media=(num1+num2)/2\n",
        "\n",
        "#Saída\n",
        "print(f\"A média dos dois números é {media}\")"
      ]
    }
  ]
}